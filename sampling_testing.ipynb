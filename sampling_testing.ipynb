{
 "cells": [
  {
   "cell_type": "code",
   "execution_count": 1,
   "metadata": {},
   "outputs": [],
   "source": [
    "\n",
    "\n",
    "import torch\n",
    "\n",
    "from torch.utils.data import Dataset, DataLoader\n",
    "\n",
    "\n",
    "\n",
    "from torchvision import transforms as T, utils\n",
    "\n",
    "import matplotlib.pyplot as plt\n",
    "from PIL import Image\n",
    "\n",
    "\n",
    "\n",
    "\n",
    "from denoising_diffusion_pytorch.version import __version__\n",
    "\n",
    "#ab diffusion related imports\n",
    "from AB_diffusion.user_hints import RandomHintGenerator, get_color_hints \n",
    "from AB_diffusion.color_handling import de_normalize_lab, normalize_lab,plotMinMax\n",
    "from AB_diffusion.ab_denoising_diffusion_pytorch import ABUnet, ABGaussianDiffusion\n",
    "from AB_diffusion.ab_trainer import ABDataset\n",
    "from AB_diffusion.colorizer_app import ColorizerApp\n",
    "from IPython.utils import io as iol\n",
    "from skimage import io\n",
    "from kornia.color import rgb_to_lab, lab_to_rgb\n",
    "from datasets import load_from_disk,load_dataset\n",
    "#from ab_classifier_free_guidance import *\n",
    "\n",
    "\n",
    "import os\n",
    "import numpy as np\n",
    "import matplotlib.pyplot as plt\n",
    "import matplotlib.image as mpimg\n",
    "\n",
    "\n",
    "import random\n",
    "import glob\n",
    "import mplcursors\n",
    "import ipywidgets as widgets\n",
    "from IPython.display import display\n",
    "import torchvision.transforms as transforms\n",
    "\n",
    "\n"
   ]
  },
  {
   "cell_type": "code",
   "execution_count": 10,
   "metadata": {},
   "outputs": [
    {
     "name": "stdout",
     "output_type": "stream",
     "text": [
      "Selected GPU: A100-SXM4-80GB\n"
     ]
    }
   ],
   "source": [
    "device = torch.device(6 if torch.cuda.is_available() else \"cpu\")\n",
    "print(\"Selected GPU:\", torch.cuda.get_device_name(device))\n",
    "#check wicj gpu is selected\n",
    "torch.cuda.set_device(device)"
   ]
  },
  {
   "cell_type": "code",
   "execution_count": 12,
   "metadata": {},
   "outputs": [
    {
     "name": "stdout",
     "output_type": "stream",
     "text": [
      "timesteps 1000\n"
     ]
    }
   ],
   "source": [
    "unet = ABUnet(\n",
    "    dim = 64,\n",
    "    dim_mults = (1, 2, 4, 8),\n",
    "    out_dim = 2,\n",
    "    channels=5\n",
    "    )\n",
    "\n",
    "def load(model_name,folder):\n",
    "    print(str(folder  + f'/{model_name}'))\n",
    "    data = torch.load(str(folder  + f'/{model_name}'), map_location=device)\n",
    "    return data\n",
    "\n",
    "diffusion_model = ABGaussianDiffusion(\n",
    "        unet,\n",
    "        image_size = 64,\n",
    "        timesteps = 1000,\n",
    "        objective = 'pred_v',\n",
    "        beta_schedule = 'cosine',\n",
    "        min_snr_loss_weight = False,\n",
    ")\n",
    "with iol.capture_output() as captured:\n",
    "    model_folder = \"./models\"\n",
    "    model_name = \"v_pred 64.pt\"\n",
    "    loaded_data = load(model_name,model_folder)\n",
    "    diffusion_model.load_state_dict(loaded_data['model'])\n",
    "    diffusion_model.to(device)\n",
    "#make it not print from this cell\n",
    "\n"
   ]
  },
  {
   "cell_type": "code",
   "execution_count": 13,
   "metadata": {},
   "outputs": [
    {
     "data": {
      "application/vnd.jupyter.widget-view+json": {
       "model_id": "4d8f39cb25e44300b686c55cdcc3a7e1",
       "version_major": 2,
       "version_minor": 0
      },
      "text/plain": [
       "Resolving data files:   0%|          | 0/99 [00:00<?, ?it/s]"
      ]
     },
     "metadata": {},
     "output_type": "display_data"
    },
    {
     "name": "stderr",
     "output_type": "stream",
     "text": [
      "Using custom data configuration default-ea83f529bcb4c7fc\n",
      "Reusing dataset imagefolder (/Home/siv32/eve036/.cache/huggingface/datasets/imagefolder/default-ea83f529bcb4c7fc/0.0.0/0fc50c79b681877cc46b23245a6ef5333d036f48db40d53765a68034bc48faff)\n"
     ]
    },
    {
     "data": {
      "application/vnd.jupyter.widget-view+json": {
       "model_id": "60c682f0646145b9937668768e7d839b",
       "version_major": 2,
       "version_minor": 0
      },
      "text/plain": [
       "  0%|          | 0/1 [00:00<?, ?it/s]"
      ]
     },
     "metadata": {},
     "output_type": "display_data"
    }
   ],
   "source": [
    "test_folder = \"./data/sem images/val\"\n",
    "\n",
    "#dataset = ABDataset(load_dataset(\"imagenet-1k\",split=\"validation\"),image_size=64)\n",
    "dataset = ABDataset(load_dataset(\"imagefolder\", data_dir=test_folder)[\"train\"],image_size=64)\n",
    "dataloader = DataLoader(dataset, batch_size = 1, shuffle = True, pin_memory = True,num_workers=100//6)"
   ]
  },
  {
   "cell_type": "code",
   "execution_count": 42,
   "metadata": {},
   "outputs": [
    {
     "data": {
      "image/png": "[encoded data removed]",
      "text/plain": [
       "<PIL.Image.Image image mode=RGB size=64x64 at 0x7F80DB24CBE0>"
      ]
     },
     "execution_count": 42,
     "metadata": {},
     "output_type": "execute_result"
    }
   ],
   "source": [
    "#img = Image.open(\"./test_img.png\")\n",
    "##convert to torch tensor\n",
    "#img\n",
    "imgL, imgAB = next(iter(dataloader))\n",
    "\n",
    "#cat them together, convert to rgb and display\n",
    "imgLAB = torch.cat((imgL,imgAB),dim=1)\n",
    "imgRGB = transforms.ToPILImage()(\n",
    "            lab_to_rgb(\n",
    "                de_normalize_lab(imgLAB).squeeze(0).detach().cpu()\n",
    "            )\n",
    "        )\n",
    "\n",
    "\n",
    "imgRGB\n"
   ]
  },
  {
   "cell_type": "code",
   "execution_count": 44,
   "metadata": {},
   "outputs": [
    {
     "data": {
      "application/vnd.jupyter.widget-view+json": {
       "model_id": "aa0c2ed6d32e48d8a3c89ce163b089fe",
       "version_major": 2,
       "version_minor": 0
      },
      "text/plain": [
       "VBox(children=(HBox(children=(VBox(children=(Label(value='Input Image'), Image(value=b'\\x89PNG\\r\\n\\x1a\\n\\x00\\x…"
      ]
     },
     "metadata": {},
     "output_type": "display_data"
    },
    {
     "data": {
      "application/vnd.jupyter.widget-view+json": {
       "model_id": "641bf67365b845609ad0f2defe3f3c2a",
       "version_major": 2,
       "version_minor": 0
      },
      "text/plain": [
       "sampling loop time step:   0%|          | 0/1000 [00:00<?, ?it/s]"
      ]
     },
     "metadata": {},
     "output_type": "display_data"
    }
   ],
   "source": [
    "%matplotlib widget\n",
    "colorizer = ColorizerApp(imgRGB, diffusion_model, device)\n",
    "\n",
    "colorizer.run()"
   ]
  },
  {
   "cell_type": "code",
   "execution_count": null,
   "metadata": {},
   "outputs": [],
   "source": [
    "hintgen = RandomHintGenerator(\n",
    "    input_size = 256,\n",
    "    hint_size =4)\n",
    "\n",
    "masks = hintgen(batch_size = 1)\n",
    "hints = get_color_hints(imgAB = imgAB, hints = masks, avg_color = True)\n",
    "imgLAB_w_hints = torch.cat((imgL,hints),dim=1)\n",
    "hintsRGB = transforms.ToPILImage()(\n",
    "            lab_to_rgb(\n",
    "                de_normalize_lab(imgLAB_w_hints).detach().cpu()\n",
    "            ).squeeze(0)\n",
    "        )\n",
    "hintsRGB\n",
    "\n"
   ]
  },
  {
   "cell_type": "code",
   "execution_count": null,
   "metadata": {},
   "outputs": [],
   "source": [
    "outputAB = diffusion_model.sample(imgLAB_w_hints.to(device))"
   ]
  },
  {
   "cell_type": "code",
   "execution_count": null,
   "metadata": {},
   "outputs": [],
   "source": [
    "outpuLAB = torch.cat((imgL,outputAB.to(\"cpu\")),dim=1)\n",
    "outputRGB = transforms.ToPILImage()(\n",
    "            lab_to_rgb(\n",
    "                de_normalize_lab(outpuLAB).detach().cpu()\n",
    "            ).squeeze(0))\n",
    "\n",
    "\n",
    "outputRGB"
   ]
  },
  {
   "cell_type": "code",
   "execution_count": null,
   "metadata": {},
   "outputs": [],
   "source": [
    "def get_new_dimensions(W, H, h):\n",
    "    # calculate the new width while preserving the aspect ratio\n",
    "    w = int((W * h) / H)\n",
    "    # adjust the width to be divisible by 2 three times\n",
    "    while w % 8 != 0:\n",
    "        w -= 1\n",
    "    return h, w\n",
    "#convert to torch tensor\n",
    "imgRGB = transforms.ToTensor()(img)\n",
    "imgL = rgb_to_lab(imgRGB)[:1,:,:]\n",
    "\n",
    "\n",
    "original_height, original_width = imgRGB.shape[1:]\n",
    "print(\"original dimensions: \", original_height, original_width)\n",
    "new_height, new_width = get_new_dimensions(original_width, original_height, 256)\n",
    "\n",
    "imgRGB = transforms.Resize((new_height, new_width))(imgRGB)\n",
    "print(\"new dimensions: \", imgRGB.shape[1:])\n",
    "\n",
    "\n",
    "\n"
   ]
  },
  {
   "cell_type": "code",
   "execution_count": null,
   "metadata": {},
   "outputs": [],
   "source": [
    "#use ipywigdet linemagi\n",
    "testImg = jimg#transforms.ToPILImage()(jimg)\n",
    "testImg = testImg.convert('L').convert('RGB')\n",
    "\n",
    "jupyter_colorizer = JupyterImageColorizer(testImg, diffusion_model,device=device)\n",
    "jupyter_colorizer.display()\n"
   ]
  },
  {
   "cell_type": "code",
   "execution_count": null,
   "metadata": {},
   "outputs": [],
   "source": [
    "7e-5+1"
   ]
  },
  {
   "cell_type": "code",
   "execution_count": null,
   "metadata": {},
   "outputs": [],
   "source": [
    "colorizations_LAB = jupyter_colorizer.output_image_LAB_tensors"
   ]
  },
  {
   "cell_type": "code",
   "execution_count": null,
   "metadata": {},
   "outputs": [],
   "source": [
    "colorizations_LAB =  transforms.Resize((original_height,original_width))(colorizations_LAB)\n",
    "print(imgL.shape)\n",
    "colorizations_LAB[:1,:1,:,:] = imgL\n",
    "\n",
    "transforms.ToPILImage()(lab_to_rgb(colorizations_LAB).squeeze(0).detach().cpu())"
   ]
  },
  {
   "cell_type": "code",
   "execution_count": null,
   "metadata": {},
   "outputs": [],
   "source": []
  }
 ],
 "metadata": {
  "kernelspec": {
   "display_name": "Python 3",
   "language": "python",
   "name": "python3"
  },
  "language_info": {
   "codemirror_mode": {
    "name": "ipython",
    "version": 3
   },
   "file_extension": ".py",
   "mimetype": "text/x-python",
   "name": "python",
   "nbconvert_exporter": "python",
   "pygments_lexer": "ipython3",
   "version": "3.6.8"
  },
  "orig_nbformat": 4
 },
 "nbformat": 4,
 "nbformat_minor": 2
}
