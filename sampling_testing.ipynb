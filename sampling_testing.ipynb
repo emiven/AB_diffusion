{
 "cells": [
  {
   "cell_type": "code",
   "execution_count": 1,
   "metadata": {},
   "outputs": [
    {
     "name": "stderr",
     "output_type": "stream",
     "text": [
      "/Home/siv32/eve036/.local/lib/python3.6/site-packages/torch/cuda/__init__.py:80: UserWarning: CUDA initialization: Unexpected error from cudaGetDeviceCount(). Did you run some cuda functions before calling NumCudaDevices() that might have already set an error? Error 802: system not yet initialized (Triggered internally at  ../c10/cuda/CUDAFunctions.cpp:112.)\n",
      "  return torch._C._cuda_getDeviceCount() > 0\n",
      "/Home/siv32/eve036/.local/lib/python3.6/site-packages/torch/autocast_mode.py:141: UserWarning: User provided device_type of 'cuda', but CUDA is not available. Disabling\n",
      "  warnings.warn('User provided device_type of \\'cuda\\', but CUDA is not available. Disabling')\n",
      "/Home/siv32/eve036/.local/lib/python3.6/site-packages/torch/autocast_mode.py:141: UserWarning: User provided device_type of 'cuda', but CUDA is not available. Disabling\n",
      "  warnings.warn('User provided device_type of \\'cuda\\', but CUDA is not available. Disabling')\n"
     ]
    }
   ],
   "source": [
    "\n",
    "\n",
    "import torch\n",
    "\n",
    "from torch.utils.data import Dataset, DataLoader\n",
    "\n",
    "\n",
    "\n",
    "from torchvision import transforms as T, utils\n",
    "\n",
    "import matplotlib.pyplot as plt\n",
    "from PIL import Image\n",
    "\n",
    "\n",
    "\n",
    "\n",
    "\n",
    "#ab diffusion related imports\n",
    "from AB_diffusion.user_hints import RandomHintGenerator, get_color_hints \n",
    "from AB_diffusion.color_handling import de_normalize_lab, normalize_lab,plotMinMax\n",
    "from AB_diffusion.ab_denoising_diffusion_pytorch import ABUnet, ABGaussianDiffusion\n",
    "from AB_diffusion.ab_trainer import ABDataset\n",
    "from AB_diffusion.colorizer_app import ColorizerApp\n",
    "from IPython.utils import io as iol\n",
    "from skimage import io\n",
    "from kornia.color import rgb_to_lab, lab_to_rgb\n",
    "from datasets import load_from_disk,load_dataset\n",
    "#from ab_classifier_free_guidance import *\n",
    "\n",
    "\n",
    "import os\n",
    "import numpy as np\n",
    "import matplotlib.pyplot as plt\n",
    "import matplotlib.image as mpimg\n",
    "\n",
    "\n",
    "import random\n",
    "import glob\n",
    "import mplcursors\n",
    "import ipywidgets as widgets\n",
    "from IPython.display import display\n",
    "import torchvision.transforms as transforms\n",
    "\n",
    "\n"
   ]
  },
  {
   "cell_type": "code",
   "execution_count": 2,
   "metadata": {},
   "outputs": [
    {
     "name": "stdout",
     "output_type": "stream",
     "text": [
      "/Home/siv32/eve036/.local/lib/python3.6/site-packages/torch/cuda/__init__.py:80: UserWarning: CUDA initialization: Unexpected error from cudaGetDeviceCount(). Did you run some cuda functions before calling NumCudaDevices() that might have already set an error? Error 802: system not yet initialized (Triggered internally at  ../c10/cuda/CUDAFunctions.cpp:112.)\n",
      "  return torch._C._cuda_getDeviceCount() > 0\n",
      "False\n"
     ]
    }
   ],
   "source": [
    "! python -c \"import torch; print(torch.cuda.is_available())\"\n"
   ]
  },
  {
   "cell_type": "code",
   "execution_count": 3,
   "metadata": {},
   "outputs": [
    {
     "name": "stdout",
     "output_type": "stream",
     "text": [
      "cpu\n"
     ]
    },
    {
     "ename": "RuntimeError",
     "evalue": "Unexpected error from cudaGetDeviceCount(). Did you run some cuda functions before calling NumCudaDevices() that might have already set an error? Error 802: system not yet initialized",
     "output_type": "error",
     "traceback": [
      "\u001b[0;31m---------------------------------------------------------------------------\u001b[0m",
      "\u001b[0;31mRuntimeError\u001b[0m                              Traceback (most recent call last)",
      "\u001b[0;32m<ipython-input-3-4798ab9469f9>\u001b[0m in \u001b[0;36m<module>\u001b[0;34m\u001b[0m\n\u001b[1;32m      1\u001b[0m \u001b[0mdevice\u001b[0m \u001b[0;34m=\u001b[0m \u001b[0mtorch\u001b[0m\u001b[0;34m.\u001b[0m\u001b[0mdevice\u001b[0m\u001b[0;34m(\u001b[0m\u001b[0;36m6\u001b[0m \u001b[0;32mif\u001b[0m \u001b[0mtorch\u001b[0m\u001b[0;34m.\u001b[0m\u001b[0mcuda\u001b[0m\u001b[0;34m.\u001b[0m\u001b[0mis_available\u001b[0m\u001b[0;34m(\u001b[0m\u001b[0;34m)\u001b[0m \u001b[0;32melse\u001b[0m \u001b[0;34m\"cpu\"\u001b[0m\u001b[0;34m)\u001b[0m\u001b[0;34m\u001b[0m\u001b[0;34m\u001b[0m\u001b[0m\n\u001b[1;32m      2\u001b[0m \u001b[0mprint\u001b[0m\u001b[0;34m(\u001b[0m\u001b[0mdevice\u001b[0m\u001b[0;34m)\u001b[0m\u001b[0;34m\u001b[0m\u001b[0;34m\u001b[0m\u001b[0m\n\u001b[0;32m----> 3\u001b[0;31m \u001b[0mprint\u001b[0m\u001b[0;34m(\u001b[0m\u001b[0;34m\"Selected GPU:\"\u001b[0m\u001b[0;34m,\u001b[0m \u001b[0mtorch\u001b[0m\u001b[0;34m.\u001b[0m\u001b[0mcuda\u001b[0m\u001b[0;34m.\u001b[0m\u001b[0mget_device_name\u001b[0m\u001b[0;34m(\u001b[0m\u001b[0mdevice\u001b[0m\u001b[0;34m)\u001b[0m\u001b[0;34m)\u001b[0m\u001b[0;34m\u001b[0m\u001b[0;34m\u001b[0m\u001b[0m\n\u001b[0m\u001b[1;32m      4\u001b[0m \u001b[0;31m#check wicj gpu is selected\u001b[0m\u001b[0;34m\u001b[0m\u001b[0;34m\u001b[0m\u001b[0;34m\u001b[0m\u001b[0m\n\u001b[1;32m      5\u001b[0m \u001b[0mtorch\u001b[0m\u001b[0;34m.\u001b[0m\u001b[0mcuda\u001b[0m\u001b[0;34m.\u001b[0m\u001b[0mset_device\u001b[0m\u001b[0;34m(\u001b[0m\u001b[0mdevice\u001b[0m\u001b[0;34m)\u001b[0m\u001b[0;34m\u001b[0m\u001b[0;34m\u001b[0m\u001b[0m\n",
      "\u001b[0;32m~/.local/lib/python3.6/site-packages/torch/cuda/__init__.py\u001b[0m in \u001b[0;36mget_device_name\u001b[0;34m(device)\u001b[0m\n\u001b[1;32m    324\u001b[0m         \u001b[0mstr\u001b[0m\u001b[0;34m:\u001b[0m \u001b[0mthe\u001b[0m \u001b[0mname\u001b[0m \u001b[0mof\u001b[0m \u001b[0mthe\u001b[0m \u001b[0mdevice\u001b[0m\u001b[0;34m\u001b[0m\u001b[0;34m\u001b[0m\u001b[0m\n\u001b[1;32m    325\u001b[0m     \"\"\"\n\u001b[0;32m--> 326\u001b[0;31m     \u001b[0;32mreturn\u001b[0m \u001b[0mget_device_properties\u001b[0m\u001b[0;34m(\u001b[0m\u001b[0mdevice\u001b[0m\u001b[0;34m)\u001b[0m\u001b[0;34m.\u001b[0m\u001b[0mname\u001b[0m\u001b[0;34m\u001b[0m\u001b[0;34m\u001b[0m\u001b[0m\n\u001b[0m\u001b[1;32m    327\u001b[0m \u001b[0;34m\u001b[0m\u001b[0m\n\u001b[1;32m    328\u001b[0m \u001b[0;34m\u001b[0m\u001b[0m\n",
      "\u001b[0;32m~/.local/lib/python3.6/site-packages/torch/cuda/__init__.py\u001b[0m in \u001b[0;36mget_device_properties\u001b[0;34m(device)\u001b[0m\n\u001b[1;32m    354\u001b[0m         \u001b[0m_CudaDeviceProperties\u001b[0m\u001b[0;34m:\u001b[0m \u001b[0mthe\u001b[0m \u001b[0mproperties\u001b[0m \u001b[0mof\u001b[0m \u001b[0mthe\u001b[0m \u001b[0mdevice\u001b[0m\u001b[0;34m\u001b[0m\u001b[0;34m\u001b[0m\u001b[0m\n\u001b[1;32m    355\u001b[0m     \"\"\"\n\u001b[0;32m--> 356\u001b[0;31m     \u001b[0m_lazy_init\u001b[0m\u001b[0;34m(\u001b[0m\u001b[0;34m)\u001b[0m  \u001b[0;31m# will define _get_device_properties\u001b[0m\u001b[0;34m\u001b[0m\u001b[0;34m\u001b[0m\u001b[0m\n\u001b[0m\u001b[1;32m    357\u001b[0m     \u001b[0mdevice\u001b[0m \u001b[0;34m=\u001b[0m \u001b[0m_get_device_index\u001b[0m\u001b[0;34m(\u001b[0m\u001b[0mdevice\u001b[0m\u001b[0;34m,\u001b[0m \u001b[0moptional\u001b[0m\u001b[0;34m=\u001b[0m\u001b[0;32mTrue\u001b[0m\u001b[0;34m)\u001b[0m\u001b[0;34m\u001b[0m\u001b[0;34m\u001b[0m\u001b[0m\n\u001b[1;32m    358\u001b[0m     \u001b[0;32mif\u001b[0m \u001b[0mdevice\u001b[0m \u001b[0;34m<\u001b[0m \u001b[0;36m0\u001b[0m \u001b[0;32mor\u001b[0m \u001b[0mdevice\u001b[0m \u001b[0;34m>=\u001b[0m \u001b[0mdevice_count\u001b[0m\u001b[0;34m(\u001b[0m\u001b[0;34m)\u001b[0m\u001b[0;34m:\u001b[0m\u001b[0;34m\u001b[0m\u001b[0;34m\u001b[0m\u001b[0m\n",
      "\u001b[0;32m~/.local/lib/python3.6/site-packages/torch/cuda/__init__.py\u001b[0m in \u001b[0;36m_lazy_init\u001b[0;34m()\u001b[0m\n\u001b[1;32m    212\u001b[0m         \u001b[0;31m# This function throws if there's a driver initialization error, no GPUs\u001b[0m\u001b[0;34m\u001b[0m\u001b[0;34m\u001b[0m\u001b[0;34m\u001b[0m\u001b[0m\n\u001b[1;32m    213\u001b[0m         \u001b[0;31m# are found or any other error occurs\u001b[0m\u001b[0;34m\u001b[0m\u001b[0;34m\u001b[0m\u001b[0;34m\u001b[0m\u001b[0m\n\u001b[0;32m--> 214\u001b[0;31m         \u001b[0mtorch\u001b[0m\u001b[0;34m.\u001b[0m\u001b[0m_C\u001b[0m\u001b[0;34m.\u001b[0m\u001b[0m_cuda_init\u001b[0m\u001b[0;34m(\u001b[0m\u001b[0;34m)\u001b[0m\u001b[0;34m\u001b[0m\u001b[0;34m\u001b[0m\u001b[0m\n\u001b[0m\u001b[1;32m    215\u001b[0m         \u001b[0;31m# Some of the queued calls may reentrantly call _lazy_init();\u001b[0m\u001b[0;34m\u001b[0m\u001b[0;34m\u001b[0m\u001b[0;34m\u001b[0m\u001b[0m\n\u001b[1;32m    216\u001b[0m         \u001b[0;31m# we need to just return without initializing in that case.\u001b[0m\u001b[0;34m\u001b[0m\u001b[0;34m\u001b[0m\u001b[0;34m\u001b[0m\u001b[0m\n",
      "\u001b[0;31mRuntimeError\u001b[0m: Unexpected error from cudaGetDeviceCount(). Did you run some cuda functions before calling NumCudaDevices() that might have already set an error? Error 802: system not yet initialized"
     ]
    }
   ],
   "source": [
    "device = torch.device(6 if torch.cuda.is_available() else \"cpu\")\n",
    "print(device)\n",
    "print(\"Selected GPU:\", torch.cuda.get_device_name(device))\n",
    "#check wicj gpu is selected\n",
    "torch.cuda.set_device(device)"
   ]
  },
  {
   "cell_type": "code",
   "execution_count": null,
   "metadata": {},
   "outputs": [
    {
     "name": "stdout",
     "output_type": "stream",
     "text": [
      "timesteps 1000\n"
     ]
    }
   ],
   "source": [
    "unet = ABUnet(\n",
    "    dim = 64,\n",
    "    dim_mults = (1, 2, 4, 8),\n",
    "    out_dim = 2,\n",
    "    channels=5\n",
    "    )\n",
    "\n",
    "def load(model_name,folder):\n",
    "    print(str(folder  + f'/{model_name}'))\n",
    "    data = torch.load(str(folder  + f'/{model_name}'), map_location=device)\n",
    "    return data\n",
    "\n",
    "diffusion_model = ABGaussianDiffusion(\n",
    "        unet,\n",
    "        image_size = 256,\n",
    "        timesteps = 1000,\n",
    "        objective = 'pred_v',\n",
    "        beta_schedule = 'sigmoid',\n",
    "        min_snr_loss_weight = False,\n",
    ")\n",
    "with iol.capture_output() as captured:\n",
    "\n",
    "    model_folder = \"./models\"\n",
    "    model_name = \"model-pred_v-1000-sigmoid-256-3x3000steps.pt\"\n",
    "    loaded_data = load(model_name,model_folder)\n",
    "    diffusion_model.load_state_dict(loaded_data['model'])\n",
    "    diffusion_model.to(device)\n",
    "\n",
    "\n"
   ]
  },
  {
   "cell_type": "code",
   "execution_count": 31,
   "metadata": {},
   "outputs": [
    {
     "data": {
      "application/vnd.jupyter.widget-view+json": {
       "model_id": "0aaced4e3f1043308d31fedd57fa8ce5",
       "version_major": 2,
       "version_minor": 0
      },
      "text/plain": [
       "Resolving data files:   0%|          | 0/99 [00:00<?, ?it/s]"
      ]
     },
     "metadata": {},
     "output_type": "display_data"
    },
    {
     "name": "stderr",
     "output_type": "stream",
     "text": [
      "Using custom data configuration default-812357fbd4547404\n",
      "Reusing dataset imagefolder (/Home/siv32/eve036/.cache/huggingface/datasets/imagefolder/default-812357fbd4547404/0.0.0/0fc50c79b681877cc46b23245a6ef5333d036f48db40d53765a68034bc48faff)\n"
     ]
    },
    {
     "data": {
      "application/vnd.jupyter.widget-view+json": {
       "model_id": "8a889052eb9b45dd87a4419ba9f07a0b",
       "version_major": 2,
       "version_minor": 0
      },
      "text/plain": [
       "  0%|          | 0/1 [00:00<?, ?it/s]"
      ]
     },
     "metadata": {},
     "output_type": "display_data"
    }
   ],
   "source": [
    "test_folder = \"./data/sem images/val\"\n",
    "\n",
    "#dataset = ABDataset(load_dataset(\"imagenet-1k\",split=\"validation\"),image_size=256)\n",
    "dataset = ABDataset(load_dataset(\"imagefolder\", data_dir=test_folder)[\"train\"],image_size=64)\n",
    "dataloader = DataLoader(dataset, batch_size = 1, shuffle = True, pin_memory = True,num_workers=100//6)"
   ]
  },
  {
   "cell_type": "code",
   "execution_count": 32,
   "metadata": {},
   "outputs": [
    {
     "data": {
      "image/png": "[encoded data removed]",
      "text/plain": [
       "<PIL.Image.Image image mode=RGB size=64x64 at 0x7F9AADC237F0>"
      ]
     },
     "execution_count": 32,
     "metadata": {},
     "output_type": "execute_result"
    }
   ],
   "source": [
    "#img = Image.open(\"./test_img.png\")\n",
    "##convert to torch tensor\n",
    "#img\n",
    "imgL, imgAB = next(iter(dataloader))\n",
    "\n",
    "#cat them together, convert to rgb and display\n",
    "imgLAB = torch.cat((imgL,imgAB),dim=1)\n",
    "imgRGB = transforms.ToPILImage()(\n",
    "            lab_to_rgb(\n",
    "                de_normalize_lab(imgLAB).squeeze(0).detach().cpu()\n",
    "            )\n",
    "        )\n",
    "\n",
    "\n",
    "imgRGB\n"
   ]
  },
  {
   "cell_type": "code",
   "execution_count": 49,
   "metadata": {},
   "outputs": [],
   "source": [
    "class RandomHintGenerator2:\n",
    "    def __init__(self, p=1/8, min_hints=1, min_size=1, max_size=9, whole_ab_p=0.01):\n",
    "        self.p = p\n",
    "        self.min_hints = min_hints\n",
    "        self.min_size = min_size\n",
    "        self.max_size = max_size\n",
    "        self.whole_ab_p = whole_ab_p\n",
    "\n",
    "    def get_num_hints(self, batch_size):\n",
    "        dist = torch.distributions.Geometric(self.p)\n",
    "        num_hints = dist.sample((batch_size,)) + 1\n",
    "        num_hints = torch.clamp(num_hints, min=self.min_hints)\n",
    "        return num_hints\n",
    "\n",
    "    def get_sample_locations(self, num_hints, H, W):\n",
    "        mean = torch.Tensor([0.5*H, 0.5*W])\n",
    "        covariance_matrix = torch.diag(torch.Tensor([(H/4)**2, (W/4)**2]))\n",
    "        dist = torch.distributions.MultivariateNormal(mean, covariance_matrix)\n",
    "        locations = dist.sample((num_hints.max().int(),))\n",
    "        locations[:,0] = torch.min(torch.max(locations[:,0], torch.tensor(0)), torch.tensor(H-1))\n",
    "        locations[:,1] = torch.min(torch.max(locations[:,1], torch.tensor(0)), torch.tensor(W-1))\n",
    "        locations = locations.round().long()\n",
    "        return locations\n",
    "\n",
    "    def get_hint_sizes(self, num_hints, H, W):\n",
    "        sizes = torch.randint(self.min_size, self.max_size+1, (num_hints.max().int(), 2))\n",
    "        sizes[:,0] = torch.min(sizes[:,0], torch.tensor(H))\n",
    "        sizes[:,1] = torch.min(sizes[:,1], torch.tensor(W))\n",
    "        return sizes\n",
    "\n",
    "    def extract_hints(self, input_images, num_hints, locations, sizes):\n",
    "        hint_tensor = torch.zeros_like(input_images)\n",
    "        for i in range(input_images.size(0)):\n",
    "            for j in range(num_hints[i].int()):\n",
    "                location = locations[j]\n",
    "                size = sizes[j]\n",
    "                if location[0] + size[0] > input_images.size(2):\n",
    "                    size[0] = input_images.size(2) - location[0]\n",
    "                if location[1] + size[1] > input_images.size(3):\n",
    "                    size[1] = input_images.size(3) - location[1]\n",
    "                hint = input_images[i, :, location[0]:location[0]+size[0], location[1]:location[1]+size[1]]\n",
    "                average_color = hint.mean(dim=(1, 2))\n",
    "                hint_tensor[i, :, location[0]:location[0]+size[0], location[1]:location[1]+size[1]] = average_color.unsqueeze(-1).unsqueeze(-1)\n",
    "        return hint_tensor\n",
    "\n",
    "    def handle_whole_ab_sample(self, input_images, hint_tensor):\n",
    "        rand = torch.rand((input_images.size(0),))\n",
    "        hint_tensor[rand < self.whole_ab_p] = input_images[rand < self.whole_ab_p]\n",
    "        return hint_tensor\n",
    "\n",
    "    def generate_hints(self, input_images):\n",
    "        if len(input_images.shape) != 4 or input_images.shape[1] != 2:\n",
    "            raise ValueError(\"Input images should have shape (batch_size, 2, H, W)\")\n",
    "        batch_size, _, H, W = input_images.shape\n",
    "        num_hints = self.get_num_hints(batch_size)\n",
    "        locations = self.get_sample_locations(num_hints, H, W)\n",
    "        sizes = self.get_hint_sizes(num_hints, H, W)\n",
    "        hint_tensor = self.extract_hints(input_images, num_hints, locations, sizes)\n",
    "        hint_tensor = self.handle_whole_ab_sample(input_images, hint_tensor)\n",
    "        return hint_tensor\n",
    "\n",
    "# Test the class\n",
    "#create a tensor of size (10000, 2, H, W)\n",
    "#large_tensor = torch.rand((10000, 2, 256, 256))\n",
    "\n"
   ]
  },
  {
   "cell_type": "code",
   "execution_count": 47,
   "metadata": {},
   "outputs": [],
   "source": []
  },
  {
   "cell_type": "code",
   "execution_count": 54,
   "metadata": {},
   "outputs": [
    {
     "name": "stdout",
     "output_type": "stream",
     "text": [
      "torch.Size([10000, 2, 256, 256])\n"
     ]
    }
   ],
   "source": [
    "large_tensor = torch.rand((10000, 2, 256, 256))\n",
    "generator = RandomHintGenerator2()\n",
    "\n",
    "hints = generator.generate_hints(large_tensor)\n",
    "print(hints.shape)"
   ]
  },
  {
   "cell_type": "code",
   "execution_count": 57,
   "metadata": {},
   "outputs": [
    {
     "data": {
      "image/png": "[encoded data removed]",
      "text/plain": [
       "<Figure size 432x288 with 2 Axes>"
      ]
     },
     "metadata": {
      "needs_background": "light"
     },
     "output_type": "display_data"
    }
   ],
   "source": [
    "\n",
    "import matplotlib.pyplot as plt\n",
    "# Initialize the heatmap\n",
    "heatmap = np.zeros((256, 256))\n",
    "\n",
    "# Convert the hints tensor to a NumPy array\n",
    "hints_np = hints.numpy()\n",
    "\n",
    "# For each image\n",
    "for i in range(100):\n",
    "    # Find the locations of the hints in the image\n",
    "    y_locs, x_locs = np.nonzero(hints_np[i].sum(axis=0))\n",
    "    \n",
    "    # For each hint in the image\n",
    "    for x, y in zip(x_locs, y_locs):\n",
    "        # Add one to the corresponding location in the heatmap\n",
    "        heatmap[y, x] += 1\n",
    "\n",
    "# Normalize the heatmap\n",
    "heatmap /= 100\n",
    "\n",
    "# Plot the heatmap\n",
    "plt.imshow(heatmap, cmap='hot', interpolation='nearest', origin='lower', extent=[0, 256, 0, 256])\n",
    "plt.colorbar(label='Frequency')\n",
    "plt.xlabel('X location')\n",
    "plt.ylabel('Y location')\n",
    "plt.title('Heatmap of hint locations')\n",
    "plt.show()"
   ]
  },
  {
   "cell_type": "code",
   "execution_count": 44,
   "metadata": {},
   "outputs": [
    {
     "data": {
      "image/png": "[encoded data removed]",
      "text/plain": [
       "<Figure size 432x288 with 1 Axes>"
      ]
     },
     "metadata": {
      "needs_background": "light"
     },
     "output_type": "display_data"
    }
   ],
   "source": [
    "\n",
    "\n",
    "\n",
    "# Convert the number of hints to a NumPy array\n",
    "num_hints_np = num_hints.numpy()\n",
    "\n",
    "# Plot a histogram of the number of hints\n",
    "plt.hist(num_hints_np, bins=range(1, int(num_hints_np.max())+2), align='left')\n",
    "plt.xlabel('Number of hints')\n",
    "plt.ylabel('Frequency')\n",
    "plt.title('Distribution of the number of hints')\n",
    "plt.show()"
   ]
  },
  {
   "cell_type": "code",
   "execution_count": 45,
   "metadata": {},
   "outputs": [
    {
     "data": {
      "image/png": "[encoded data removed]",
      "text/plain": [
       "<Figure size 432x288 with 2 Axes>"
      ]
     },
     "metadata": {
      "needs_background": "light"
     },
     "output_type": "display_data"
    }
   ],
   "source": [
    "# Generate the hint locations\n",
    "num_hints = generator.get_num_hints(10000)\n",
    "locations = generator.get_sample_locations(num_hints, 256, 256)\n",
    "\n",
    "# Initialize the heatmap\n",
    "heatmap = np.zeros((256, 256))\n",
    "\n",
    "# For each image\n",
    "for i in range(10000):\n",
    "    # For each hint in the image\n",
    "    for j in range(num_hints[i].int()):\n",
    "        # Add one to the corresponding location in the heatmap\n",
    "        heatmap[locations[j, 0], locations[j, 1]] += 1\n",
    "\n",
    "# Normalize the heatmap\n",
    "heatmap /= 10000\n",
    "\n",
    "# Plot the heatmap\n",
    "plt.imshow(heatmap, cmap='hot', interpolation='nearest', origin='lower', extent=[0, 256, 0, 256])\n",
    "plt.colorbar(label='Frequency')\n",
    "plt.xlabel('X location')\n",
    "plt.ylabel('Y location')\n",
    "plt.title('Heatmap of hint locations')\n",
    "plt.show()\n"
   ]
  },
  {
   "cell_type": "code",
   "execution_count": 27,
   "metadata": {},
   "outputs": [],
   "source": [
    "hints = generator.generate_hints(imgAB)\n",
    "L_w_hints = torch.cat((imgL,hints),dim=1)\n",
    "img_w_hints = transforms.ToPILImage()(\n",
    "            lab_to_rgb(\n",
    "                de_normalize_lab(L_w_hints).squeeze(0).detach().cpu()\n",
    "            )\n",
    "        )\n"
   ]
  },
  {
   "cell_type": "code",
   "execution_count": 28,
   "metadata": {},
   "outputs": [
    {
     "data": {
      "image/png": "[encoded data removed]",
      "text/plain": [
       "<PIL.Image.Image image mode=RGB size=64x64 at 0x7F9AADC106A0>"
      ]
     },
     "execution_count": 28,
     "metadata": {},
     "output_type": "execute_result"
    }
   ],
   "source": [
    "img_w_hints"
   ]
  },
  {
   "cell_type": "code",
   "execution_count": 20,
   "metadata": {},
   "outputs": [
    {
     "data": {
      "application/vnd.jupyter.widget-view+json": {
       "model_id": "ff3684f8fdb8433fa348cdd5117e1756",
       "version_major": 2,
       "version_minor": 0
      },
      "text/plain": [
       "VBox(children=(HBox(children=(VBox(children=(Label(value='Input Image'), Image(value=b'\\x89PNG\\r\\n\\x1a\\n\\x00\\x…"
      ]
     },
     "metadata": {},
     "output_type": "display_data"
    },
    {
     "data": {
      "application/vnd.jupyter.widget-view+json": {
       "model_id": "6b3cb48c740f4d269327c4184b91c7f2",
       "version_major": 2,
       "version_minor": 0
      },
      "text/plain": [
       "sampling loop time step:   0%|          | 0/1000 [00:00<?, ?it/s]"
      ]
     },
     "metadata": {},
     "output_type": "display_data"
    },
    {
     "data": {
      "application/vnd.jupyter.widget-view+json": {
       "model_id": "285d3d4c915e46b68dba6855832cb2ea",
       "version_major": 2,
       "version_minor": 0
      },
      "text/plain": [
       "sampling loop time step:   0%|          | 0/1000 [00:00<?, ?it/s]"
      ]
     },
     "metadata": {},
     "output_type": "display_data"
    },
    {
     "data": {
      "application/vnd.jupyter.widget-view+json": {
       "model_id": "70b853983c9844ebb312ce35e2485837",
       "version_major": 2,
       "version_minor": 0
      },
      "text/plain": [
       "sampling loop time step:   0%|          | 0/1000 [00:00<?, ?it/s]"
      ]
     },
     "metadata": {},
     "output_type": "display_data"
    }
   ],
   "source": [
    "%matplotlib widget\n",
    "colorizer = ColorizerApp(imgRGB, diffusion_model, device)\n",
    "\n",
    "colorizer.run()"
   ]
  },
  {
   "cell_type": "code",
   "execution_count": null,
   "metadata": {},
   "outputs": [],
   "source": [
    "hintgen = RandomHintGenerator(\n",
    "    input_size = 256,\n",
    "    hint_size =4)\n",
    "\n",
    "masks = hintgen(batch_size = 1)\n",
    "hints = get_color_hints(imgAB = imgAB, hints = masks, avg_color = True)\n",
    "imgLAB_w_hints = torch.cat((imgL,hints),dim=1)\n",
    "hintsRGB = transforms.ToPILImage()(\n",
    "            lab_to_rgb(\n",
    "                de_normalize_lab(imgLAB_w_hints).detach().cpu()\n",
    "            ).squeeze(0)\n",
    "        )\n",
    "hintsRGB\n",
    "\n"
   ]
  },
  {
   "cell_type": "code",
   "execution_count": null,
   "metadata": {},
   "outputs": [],
   "source": [
    "outputAB = diffusion_model.sample(imgLAB_w_hints.to(device))"
   ]
  },
  {
   "cell_type": "code",
   "execution_count": null,
   "metadata": {},
   "outputs": [],
   "source": [
    "outpuLAB = torch.cat((imgL,outputAB.to(\"cpu\")),dim=1)\n",
    "outputRGB = transforms.ToPILImage()(\n",
    "            lab_to_rgb(\n",
    "                de_normalize_lab(outpuLAB).detach().cpu()\n",
    "            ).squeeze(0))\n",
    "\n",
    "\n",
    "outputRGB"
   ]
  },
  {
   "cell_type": "code",
   "execution_count": null,
   "metadata": {},
   "outputs": [],
   "source": [
    "def get_new_dimensions(W, H, h):\n",
    "    # calculate the new width while preserving the aspect ratio\n",
    "    w = int((W * h) / H)\n",
    "    # adjust the width to be divisible by 2 three times\n",
    "    while w % 8 != 0:\n",
    "        w -= 1\n",
    "    return h, w\n",
    "#convert to torch tensor\n",
    "imgRGB = transforms.ToTensor()(img)\n",
    "imgL = rgb_to_lab(imgRGB)[:1,:,:]\n",
    "\n",
    "\n",
    "original_height, original_width = imgRGB.shape[1:]\n",
    "print(\"original dimensions: \", original_height, original_width)\n",
    "new_height, new_width = get_new_dimensions(original_width, original_height, 256)\n",
    "\n",
    "imgRGB = transforms.Resize((new_height, new_width))(imgRGB)\n",
    "print(\"new dimensions: \", imgRGB.shape[1:])\n",
    "\n",
    "\n",
    "\n"
   ]
  },
  {
   "cell_type": "code",
   "execution_count": null,
   "metadata": {},
   "outputs": [],
   "source": [
    "#use ipywigdet linemagi\n",
    "testImg = jimg#transforms.ToPILImage()(jimg)\n",
    "testImg = testImg.convert('L').convert('RGB')\n",
    "\n",
    "jupyter_colorizer = JupyterImageColorizer(testImg, diffusion_model,device=device)\n",
    "jupyter_colorizer.display()\n"
   ]
  },
  {
   "cell_type": "code",
   "execution_count": null,
   "metadata": {},
   "outputs": [],
   "source": [
    "7e-5+1"
   ]
  },
  {
   "cell_type": "code",
   "execution_count": null,
   "metadata": {},
   "outputs": [],
   "source": [
    "colorizations_LAB = jupyter_colorizer.output_image_LAB_tensors"
   ]
  },
  {
   "cell_type": "code",
   "execution_count": null,
   "metadata": {},
   "outputs": [],
   "source": [
    "colorizations_LAB =  transforms.Resize((original_height,original_width))(colorizations_LAB)\n",
    "print(imgL.shape)\n",
    "colorizations_LAB[:1,:1,:,:] = imgL\n",
    "\n",
    "transforms.ToPILImage()(lab_to_rgb(colorizations_LAB).squeeze(0).detach().cpu())"
   ]
  },
  {
   "cell_type": "code",
   "execution_count": null,
   "metadata": {},
   "outputs": [],
   "source": []
  }
 ],
 "metadata": {
  "kernelspec": {
   "display_name": "Python 3",
   "language": "python",
   "name": "python3"
  },
  "language_info": {
   "codemirror_mode": {
    "name": "ipython",
    "version": 3
   },
   "file_extension": ".py",
   "mimetype": "text/x-python",
   "name": "python",
   "nbconvert_exporter": "python",
   "pygments_lexer": "ipython3",
   "version": "3.6.8"
  },
  "orig_nbformat": 4
 },
 "nbformat": 4,
 "nbformat_minor": 2
}
