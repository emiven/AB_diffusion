{
 "cells": [
  {
   "cell_type": "code",
   "execution_count": 1,
   "metadata": {},
   "outputs": [],
   "source": [
    "from ab_trainer import *\n",
    "#from ab_classifier_free_guidance import *\n",
    "from ab_denoising_diffusion_pytorch import *\n",
    "from user_hints import *\n",
    "import matplotlib.pyplot as plt\n",
    "import torch\n",
    "from multiprocessing import cpu_count\n",
    "import os\n",
    "from datasets import load_dataset, load_dataset_builder, get_dataset_split_names,concatenate_datasets,DatasetDict,load_from_disk\n",
    "from datasets import Dataset as HFDataset\n",
    "from torchvision.datasets import ImageFolder\n",
    "from torchviz import make_dot\n",
    "from torchsummary import summary"
   ]
  },
  {
   "cell_type": "code",
   "execution_count": 3,
   "metadata": {},
   "outputs": [
    {
     "ename": "NameError",
     "evalue": "name 'load_dataset' is not defined",
     "output_type": "error",
     "traceback": [
      "\u001b[0;31m---------------------------------------------------------------------------\u001b[0m",
      "\u001b[0;31mNameError\u001b[0m                                 Traceback (most recent call last)",
      "\u001b[0;32m<ipython-input-3-d32d997c1a89>\u001b[0m in \u001b[0;36m<module>\u001b[0;34m\u001b[0m\n\u001b[1;32m      1\u001b[0m \u001b[0;31m#loa dimagenet\u001b[0m\u001b[0;34m\u001b[0m\u001b[0;34m\u001b[0m\u001b[0;34m\u001b[0m\u001b[0m\n\u001b[0;32m----> 2\u001b[0;31m \u001b[0mdataset_train\u001b[0m \u001b[0;34m=\u001b[0m \u001b[0mload_dataset\u001b[0m\u001b[0;34m(\u001b[0m\u001b[0;34m\"imagenet-1k\"\u001b[0m\u001b[0;34m,\u001b[0m\u001b[0msplit\u001b[0m\u001b[0;34m=\u001b[0m\u001b[0;34m\"train\"\u001b[0m\u001b[0;34m)\u001b[0m\u001b[0;34m\u001b[0m\u001b[0;34m\u001b[0m\u001b[0m\n\u001b[0m\u001b[1;32m      3\u001b[0m \u001b[0mdataset_test\u001b[0m \u001b[0;34m=\u001b[0m \u001b[0mload_dataset\u001b[0m\u001b[0;34m(\u001b[0m\u001b[0;34m\"imagenet-1k\"\u001b[0m\u001b[0;34m,\u001b[0m\u001b[0msplit\u001b[0m\u001b[0;34m=\u001b[0m\u001b[0;34m\"validation\"\u001b[0m\u001b[0;34m)\u001b[0m\u001b[0;34m\u001b[0m\u001b[0;34m\u001b[0m\u001b[0m\n\u001b[1;32m      4\u001b[0m \u001b[0;34m\u001b[0m\u001b[0m\n",
      "\u001b[0;31mNameError\u001b[0m: name 'load_dataset' is not defined"
     ]
    }
   ],
   "source": [
    "#loa dimagenet\n",
    "dataset_train = load_dataset(\"imagenet-1k\",split=\"train\")\n",
    "dataset_test = load_dataset(\"imagenet-1k\",split=\"validation\")\n",
    "\n"
   ]
  },
  {
   "cell_type": "code",
   "execution_count": null,
   "metadata": {},
   "outputs": [],
   "source": [
    "train_folder = \"data/tinyimgnet/train\"\n",
    "test_folder = \"data/tinyimgnet/val\""
   ]
  },
  {
   "cell_type": "code",
   "execution_count": null,
   "metadata": {},
   "outputs": [],
   "source": [
    "device = torch.device(6 if torch.cuda.is_available() else \"cpu\")\n",
    "print(\"Selected GPU:\", torch.cuda.get_device_name(device))\n",
    "#check wicj gpu is selected\n",
    "torch.cuda.set_device(device)\n",
    "\n",
    "print(\"Number of available GPUs:\", torch.cuda.device_count())\n",
    "print(\"device:\", device)\n",
    "print(\"Selected GPU:\", torch.cuda.current_device())\n"
   ]
  },
  {
   "cell_type": "code",
   "execution_count": 5,
   "metadata": {},
   "outputs": [
    {
     "data": {
      "text/plain": [
       "tensor([ 9.,  9.,  8., 25., 14.,  8., 11., 26.,  6., 15.])"
      ]
     },
     "execution_count": 5,
     "metadata": {},
     "output_type": "execute_result"
    }
   ],
   "source": [
    "torch.distributions.geometric.Geometric(1/8).sample((10,))"
   ]
  },
  {
   "cell_type": "code",
   "execution_count": null,
   "metadata": {},
   "outputs": [],
   "source": [
    "model = ABUnet(\n",
    "    dim = 64,\n",
    "    out_dim = 2,\n",
    "    channels=5,    \n",
    "\n",
    ").to(device)\n",
    "diffusion = ABGaussianDiffusion(\n",
    "    model,\n",
    "        image_size = 256,\n",
    "        timesteps = 1000,\n",
    "        objective = 'pred_noise',\n",
    "        beta_schedule = 'cosine',\n",
    "        auto_normalize=False\n",
    ").to(device)"
   ]
  },
  {
   "cell_type": "code",
   "execution_count": null,
   "metadata": {},
   "outputs": [],
   "source": [
    "hint_generator = RandomHintGenerator(\n",
    "    input_size = 256,\n",
    "    hint_size = 2,\n",
    "    num_hint_range = [0, 10]\n",
    "    \n",
    ")"
   ]
  },
  {
   "cell_type": "code",
   "execution_count": null,
   "metadata": {},
   "outputs": [],
   "source": [
    "trainer = ABTrainer(\n",
    "        diffusion_model = diffusion,\n",
    "        folder_train = train_folder,\n",
    "        folder_sample= test_folder,\n",
    "        train_ds = dataset_train,\n",
    "        sample_ds= dataset_test,\n",
    "        train_batch_size = 32,\n",
    "        gradient_accumulate_every = 2,\n",
    "        augment_horizontal_flip = False,\n",
    "        train_lr = 5e-5,\n",
    "        train_num_steps = 100000,\n",
    "        ema_update_every = 10,\n",
    "        ema_decay = 0.995,\n",
    "        adam_betas = (0.9, 0.99),\n",
    "        num_samples = 16,\n",
    "        results_folder = './results',\n",
    "        amp = False,\n",
    "        mixed_precision_type = 'fp16',\n",
    "        split_batches = True,\n",
    "        convert_image_to = None,\n",
    "        calculate_fid = False,\n",
    "        inception_block_idx = 2048,\n",
    "        max_grad_norm = 1.,\n",
    "        num_fid_samples = 50000,\n",
    "        save_best_and_latest_only = False,\n",
    "        #ab diffusion stuff\n",
    "        hint_generator = hint_generator,\n",
    "        hint_color_avg = True,\n",
    "        log_freq = 10000,\n",
    "        save_every = 10000,\n",
    "        \n",
    "        \n",
    "\n",
    "        )"
   ]
  },
  {
   "cell_type": "code",
   "execution_count": null,
   "metadata": {},
   "outputs": [],
   "source": [
    "#trainer.load(1)"
   ]
  },
  {
   "cell_type": "code",
   "execution_count": null,
   "metadata": {},
   "outputs": [],
   "source": [
    "trainer.train()"
   ]
  },
  {
   "cell_type": "code",
   "execution_count": null,
   "metadata": {},
   "outputs": [],
   "source": []
  },
  {
   "cell_type": "code",
   "execution_count": null,
   "metadata": {},
   "outputs": [],
   "source": []
  }
 ],
 "metadata": {
  "kernelspec": {
   "display_name": "Python 3",
   "language": "python",
   "name": "python3"
  },
  "language_info": {
   "codemirror_mode": {
    "name": "ipython",
    "version": 3
   },
   "file_extension": ".py",
   "mimetype": "text/x-python",
   "name": "python",
   "nbconvert_exporter": "python",
   "pygments_lexer": "ipython3",
   "version": "3.6.8"
  },
  "orig_nbformat": 4
 },
 "nbformat": 4,
 "nbformat_minor": 2
}
