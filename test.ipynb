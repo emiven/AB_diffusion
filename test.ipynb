{
 "cells": [
  {
   "cell_type": "code",
   "execution_count": 1,
   "metadata": {},
   "outputs": [],
   "source": [
    "from ab_trainer import *\n",
    "#from ab_classifier_free_guidance import *\n",
    "from ab_denoising_diffusion_pytorch import *\n",
    "from user_hints import *\n",
    "import matplotlib.pyplot as plt\n",
    "import torch\n",
    "from multiprocessing import cpu_count\n",
    "import os\n",
    "from datasets import load_dataset, load_dataset_builder, get_dataset_split_names,concatenate_datasets,DatasetDict,load_from_disk\n",
    "from datasets import Dataset as HFDataset\n",
    "from torchvision.datasets import ImageFolder\n",
    "from torchviz import make_dot\n",
    "from torchsummary import summary"
   ]
  },
  {
   "cell_type": "code",
   "execution_count": 2,
   "metadata": {},
   "outputs": [
    {
     "data": {
      "application/vnd.jupyter.widget-view+json": {
       "model_id": "8d92699c3ac946b2adbf2aaf3e42b44c",
       "version_major": 2,
       "version_minor": 0
      },
      "text/plain": [
       "Resolving data files:   0%|          | 0/1098 [00:00<?, ?it/s]"
      ]
     },
     "metadata": {},
     "output_type": "display_data"
    },
    {
     "name": "stderr",
     "output_type": "stream",
     "text": [
      "Using custom data configuration default-999bcfdae24507ee\n",
      "Reusing dataset imagefolder (/Home/siv32/eve036/.cache/huggingface/datasets/imagefolder/default-999bcfdae24507ee/0.0.0/0fc50c79b681877cc46b23245a6ef5333d036f48db40d53765a68034bc48faff)\n"
     ]
    },
    {
     "data": {
      "application/vnd.jupyter.widget-view+json": {
       "model_id": "aa123c9df5fc4a2cbd774261ba1c344c",
       "version_major": 2,
       "version_minor": 0
      },
      "text/plain": [
       "  0%|          | 0/1 [00:00<?, ?it/s]"
      ]
     },
     "metadata": {},
     "output_type": "display_data"
    },
    {
     "data": {
      "application/vnd.jupyter.widget-view+json": {
       "model_id": "4c5cb0c48b674c34aaa50e21e80b8509",
       "version_major": 2,
       "version_minor": 0
      },
      "text/plain": [
       "Resolving data files:   0%|          | 0/100 [00:00<?, ?it/s]"
      ]
     },
     "metadata": {},
     "output_type": "display_data"
    },
    {
     "name": "stderr",
     "output_type": "stream",
     "text": [
      "Using custom data configuration default-ccb5beaacb3b8920\n",
      "Reusing dataset imagefolder (/Home/siv32/eve036/.cache/huggingface/datasets/imagefolder/default-ccb5beaacb3b8920/0.0.0/0fc50c79b681877cc46b23245a6ef5333d036f48db40d53765a68034bc48faff)\n"
     ]
    },
    {
     "data": {
      "application/vnd.jupyter.widget-view+json": {
       "model_id": "23a20c7270fe4ad0894ff08e01baa2cb",
       "version_major": 2,
       "version_minor": 0
      },
      "text/plain": [
       "  0%|          | 0/1 [00:00<?, ?it/s]"
      ]
     },
     "metadata": {},
     "output_type": "display_data"
    }
   ],
   "source": [
    "#loa dimagenet\n",
    "image_dir_val = \"./data/sem images/val\"\n",
    "image_dir_train = \"./data/sem images/train\"\n",
    "\n",
    "dataset_train = load_dataset(\"imagefolder\", data_dir=image_dir_train)[\"train\"]\n",
    "dataset_val = load_dataset(\"imagefolder\", data_dir=image_dir_val)[\"train\"]\n",
    "\n"
   ]
  },
  {
   "cell_type": "code",
   "execution_count": 3,
   "metadata": {},
   "outputs": [],
   "source": [
    "train_folder = \"data/tinyimgnet/train\"\n",
    "test_folder = \"data/tinyimgnet/val\""
   ]
  },
  {
   "cell_type": "code",
   "execution_count": 4,
   "metadata": {},
   "outputs": [
    {
     "name": "stdout",
     "output_type": "stream",
     "text": [
      "Selected GPU: A100-SXM4-80GB\n",
      "Number of available GPUs: 8\n",
      "device: cuda:7\n",
      "Selected GPU: 7\n"
     ]
    }
   ],
   "source": [
    "device = torch.device(7 if torch.cuda.is_available() else \"cpu\")\n",
    "print(\"Selected GPU:\", torch.cuda.get_device_name(device))\n",
    "#check wicj gpu is selected\n",
    "torch.cuda.set_device(device)\n",
    "\n",
    "print(\"Number of available GPUs:\", torch.cuda.device_count())\n",
    "print(\"device:\", device)\n",
    "print(\"Selected GPU:\", torch.cuda.current_device())\n"
   ]
  },
  {
   "cell_type": "code",
   "execution_count": 7,
   "metadata": {},
   "outputs": [],
   "source": [
    "\n",
    "results_folder = \"./results\"\n",
    "\n",
    "def load(milestone):\n",
    "    print(str(results_folder  + f'/model-{milestone}.pt'))\n",
    "    data = torch.load(str(results_folder  + f'/model-{milestone}.pt'), map_location=device)\n",
    "    return data\n",
    "\n"
   ]
  },
  {
   "cell_type": "code",
   "execution_count": 8,
   "metadata": {},
   "outputs": [
    {
     "name": "stdout",
     "output_type": "stream",
     "text": [
      "sampling timesteps 1000\n",
      "timesteps 1000\n",
      "./results/model-88.pt\n"
     ]
    },
    {
     "data": {
      "text/plain": [
       "<All keys matched successfully>"
      ]
     },
     "execution_count": 8,
     "metadata": {},
     "output_type": "execute_result"
    }
   ],
   "source": [
    "model = ABUnet(\n",
    "    dim = 64,\n",
    "    out_dim = 2,\n",
    "    channels=5,    \n",
    "\n",
    ").to(device)\n",
    "diffusion = ABGaussianDiffusion(\n",
    "    model,\n",
    "        image_size = 256,\n",
    "        timesteps = 1000,\n",
    "        objective = 'pred_v',\n",
    "        beta_schedule = 'cosine',\n",
    "        auto_normalize=False\n",
    ").to(device)\n",
    "loaded_data = load(88)\n",
    "diffusion.load_state_dict(loaded_data['model'])"
   ]
  },
  {
   "cell_type": "code",
   "execution_count": 9,
   "metadata": {},
   "outputs": [],
   "source": [
    "hint_generator = RandomHintGenerator(\n",
    "    input_size = 256,\n",
    "    hint_size = 2,\n",
    "    num_hint_range = [0, 10]\n",
    "    \n",
    ")"
   ]
  },
  {
   "cell_type": "code",
   "execution_count": 10,
   "metadata": {},
   "outputs": [
    {
     "name": "stdout",
     "output_type": "stream",
     "text": [
      "32\n",
      "32\n",
      "loading datasets:\n",
      "time to load train dataset:  0.0001704692840576172\n",
      "train dataset length:  1098\n",
      "time to load sample dataset:  6.246566772460938e-05\n",
      "sample dataset length:  100\n"
     ]
    }
   ],
   "source": [
    "trainer = ABTrainer(\n",
    "        diffusion_model = diffusion,\n",
    "        folder_train = train_folder,\n",
    "        folder_sample= test_folder,\n",
    "        train_ds = dataset_train,\n",
    "        sample_ds= dataset_val,\n",
    "        train_batch_size = 32,\n",
    "        gradient_accumulate_every = 1,\n",
    "        augment_horizontal_flip = False,\n",
    "        train_lr = 5e-7,\n",
    "        train_num_steps = 1000,\n",
    "        ema_update_every = 10,\n",
    "        ema_decay = 0.995,\n",
    "        adam_betas = (0.9, 0.99),\n",
    "        num_samples = 16,\n",
    "        results_folder = './results',\n",
    "        amp = False,\n",
    "        mixed_precision_type = 'fp16',\n",
    "        split_batches = True,\n",
    "        calculate_fid = False,\n",
    "        inception_block_idx = 2048,\n",
    "        max_grad_norm = 1.,\n",
    "        num_fid_samples = 50000,\n",
    "        save_best_and_latest_only = False,\n",
    "        #ab diffusion stuff\n",
    "        hint_generator = hint_generator,\n",
    "        hint_color_avg = True,\n",
    "        log_freq = 100,\n",
    "        save_every = 999,\n",
    "        \n",
    "        \n",
    "\n",
    "        )"
   ]
  },
  {
   "cell_type": "code",
   "execution_count": null,
   "metadata": {},
   "outputs": [],
   "source": []
  },
  {
   "cell_type": "code",
   "execution_count": 11,
   "metadata": {},
   "outputs": [
    {
     "data": {
      "application/vnd.jupyter.widget-view+json": {
       "model_id": "4b4c0d59027c4bbfb3fc68c6c6a2fd44",
       "version_major": 2,
       "version_minor": 0
      },
      "text/plain": [
       "  0%|          | 0/1000 [00:00<?, ?it/s]"
      ]
     },
     "metadata": {},
     "output_type": "display_data"
    },
    {
     "name": "stderr",
     "output_type": "stream",
     "text": [
      "/Home/siv32/eve036/.local/lib/python3.6/site-packages/torch/nn/functional.py:3635: UserWarning: Default upsampling behavior when mode=bilinear is changed to align_corners=False since 0.4.0. Please specify align_corners=True if the old behavior is desired. See the documentation of nn.Upsample for details.\n",
      "  \"See the documentation of nn.Upsample for details.\".format(mode)\n"
     ]
    },
    {
     "data": {
      "application/vnd.jupyter.widget-view+json": {
       "model_id": "8df831bf66b7415d93ea5845aa5e2788",
       "version_major": 2,
       "version_minor": 0
      },
      "text/plain": [
       "sampling loop time step:   0%|          | 0/1000 [00:00<?, ?it/s]"
      ]
     },
     "metadata": {},
     "output_type": "display_data"
    },
    {
     "name": "stderr",
     "output_type": "stream",
     "text": [
      "Lossy conversion from float32 to uint8. Range [0, 1]. Convert image to uint8 prior to saving to suppress this warning.\n",
      "Lossy conversion from float32 to uint8. Range [0, 1]. Convert image to uint8 prior to saving to suppress this warning.\n",
      "Lossy conversion from float32 to uint8. Range [0, 1]. Convert image to uint8 prior to saving to suppress this warning.\n"
     ]
    },
    {
     "data": {
      "application/vnd.jupyter.widget-view+json": {
       "model_id": "93babc63e5f44ee69d11def856091315",
       "version_major": 2,
       "version_minor": 0
      },
      "text/plain": [
       "sampling loop time step:   0%|          | 0/1000 [00:00<?, ?it/s]"
      ]
     },
     "metadata": {},
     "output_type": "display_data"
    },
    {
     "name": "stderr",
     "output_type": "stream",
     "text": [
      "Lossy conversion from float32 to uint8. Range [0, 1]. Convert image to uint8 prior to saving to suppress this warning.\n",
      "Lossy conversion from float32 to uint8. Range [0, 1]. Convert image to uint8 prior to saving to suppress this warning.\n",
      "Lossy conversion from float32 to uint8. Range [0, 1]. Convert image to uint8 prior to saving to suppress this warning.\n"
     ]
    }
   ],
   "source": [
    "trainer.train()"
   ]
  },
  {
   "cell_type": "code",
   "execution_count": null,
   "metadata": {},
   "outputs": [],
   "source": []
  },
  {
   "cell_type": "code",
   "execution_count": null,
   "metadata": {},
   "outputs": [],
   "source": []
  },
  {
   "cell_type": "code",
   "execution_count": null,
   "metadata": {},
   "outputs": [],
   "source": []
  }
 ],
 "metadata": {
  "kernelspec": {
   "display_name": "Python 3",
   "language": "python",
   "name": "python3"
  },
  "language_info": {
   "codemirror_mode": {
    "name": "ipython",
    "version": 3
   },
   "file_extension": ".py",
   "mimetype": "text/x-python",
   "name": "python",
   "nbconvert_exporter": "python",
   "pygments_lexer": "ipython3",
   "version": "3.6.8"
  },
  "orig_nbformat": 4
 },
 "nbformat": 4,
 "nbformat_minor": 2
}
