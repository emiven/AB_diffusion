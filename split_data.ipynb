{
 "cells": [
  {
   "cell_type": "code",
   "execution_count": 1,
   "metadata": {},
   "outputs": [
    {
     "name": "stdout",
     "output_type": "stream",
     "text": [
      "Images moved to respective directories.\n"
     ]
    }
   ],
   "source": [
    "import os\n",
    "import shutil\n",
    "import random\n",
    "\n",
    "# Set the path to the images\n",
    "data_path = 'data/SEM images'\n",
    "\n",
    "# Make new directories for train, val, and test sets\n",
    "val_path = os.path.join(data_path, 'val')\n",
    "test_path = os.path.join(data_path, 'test')\n",
    "train_path = os.path.join(data_path, 'train')\n",
    "\n",
    "# Create the directories if they do not exist\n",
    "os.makedirs(val_path, exist_ok=True)\n",
    "os.makedirs(test_path, exist_ok=True)\n",
    "os.makedirs(train_path, exist_ok=True)\n",
    "\n",
    "# Get list of all files in the data_path\n",
    "image_files = [f for f in os.listdir(data_path) if os.path.isfile(os.path.join(data_path, f))]\n",
    "\n",
    "# Shuffle the list of image files\n",
    "random.shuffle(image_files)\n",
    "\n",
    "# Move 100 images to val directory\n",
    "for img in image_files[:100]:\n",
    "    shutil.move(os.path.join(data_path, img), os.path.join(val_path, img))\n",
    "\n",
    "# Move 200 images to test directory\n",
    "for img in image_files[100:300]:\n",
    "    shutil.move(os.path.join(data_path, img), os.path.join(test_path, img))\n",
    "\n",
    "# Move the remaining images to train directory\n",
    "for img in image_files[300:]:\n",
    "    shutil.move(os.path.join(data_path, img), os.path.join(train_path, img))\n",
    "    \n",
    "print(\"Images moved to respective directories.\")"
   ]
  },
  {
   "cell_type": "code",
   "execution_count": null,
   "metadata": {},
   "outputs": [],
   "source": []
  }
 ],
 "metadata": {
  "kernelspec": {
   "display_name": "Python 3",
   "language": "python",
   "name": "python3"
  },
  "language_info": {
   "codemirror_mode": {
    "name": "ipython",
    "version": 3
   },
   "file_extension": ".py",
   "mimetype": "text/x-python",
   "name": "python",
   "nbconvert_exporter": "python",
   "pygments_lexer": "ipython3",
   "version": "3.9.13"
  },
  "orig_nbformat": 4
 },
 "nbformat": 4,
 "nbformat_minor": 2
}
