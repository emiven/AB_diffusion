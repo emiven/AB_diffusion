{
 "cells": [
  {
   "cell_type": "code",
   "execution_count": 1,
   "metadata": {},
   "outputs": [],
   "source": [
    "from AB_diffusion import ABTrainer,ABGaussianDiffusion,RandomHintGenerator,ABUnet\n",
    "from AB_diffusion import Evaluator\n",
    "import torch\n",
    "from datasets import load_dataset"
   ]
  },
  {
   "cell_type": "code",
   "execution_count": 2,
   "metadata": {},
   "outputs": [
    {
     "name": "stdout",
     "output_type": "stream",
     "text": [
      "Selected GPU: NVIDIA GeForce RTX 3080\n",
      "Number of available GPUs: 2\n",
      "device: cuda:0\n",
      "Selected GPU: 0\n"
     ]
    }
   ],
   "source": [
    "device = torch.device(0 if torch.cuda.is_available() else \"cpu\")\n",
    "print(\"Selected GPU:\", torch.cuda.get_device_name(device))\n",
    "#check wicj gpu is selected\n",
    "torch.cuda.set_device(device)\n",
    "\n",
    "print(\"Number of available GPUs:\", torch.cuda.device_count())\n",
    "print(\"device:\", device)\n",
    "print(\"Selected GPU:\", torch.cuda.current_device())\n"
   ]
  },
  {
   "cell_type": "code",
   "execution_count": 3,
   "metadata": {},
   "outputs": [],
   "source": [
    "model_folder = \"./models\"\n",
    "model_name = \"model-pred_v-1000-sigmoid-64-10x10000steps.pt\"\n",
    "def load(file_name):\n",
    "    print(str(model_folder  + f'/{file_name}'))\n",
    "    data = torch.load(str(model_folder  + f'/{file_name}'), map_location=device)\n",
    "    return data"
   ]
  },
  {
   "cell_type": "code",
   "execution_count": 4,
   "metadata": {},
   "outputs": [
    {
     "name": "stderr",
     "output_type": "stream",
     "text": [
      "Using custom data configuration Maysee--tiny-imagenet-2eb6c3acd8ebc62a\n",
      "Found cached dataset parquet (C:/Users/emive/.cache/huggingface/datasets/zh-plus___parquet/Maysee--tiny-imagenet-2eb6c3acd8ebc62a/0.0.0/2a3b91fbd88a2c90d1dbbb32b460cf621d31bd5b05b934492fdef7d8d6f236ec)\n"
     ]
    },
    {
     "name": "stdout",
     "output_type": "stream",
     "text": [
      "timesteps 1000\n",
      "loading datasets:\n",
      "./models/model-pred_v-1000-sigmoid-64-10x10000steps.pt\n"
     ]
    },
    {
     "data": {
      "text/plain": [
       "<All keys matched successfully>"
      ]
     },
     "execution_count": 4,
     "metadata": {},
     "output_type": "execute_result"
    }
   ],
   "source": [
    "dataset = load_dataset(\"zh-plus/tiny-imagenet\",split=\"valid\")\n",
    "hint_generator = RandomHintGenerator(\n",
    "    input_size = 64,\n",
    "    hint_size = 2,\n",
    "    \n",
    ")\n",
    "\n",
    "unnet = ABUnet(\n",
    "    dim = 64,\n",
    "    out_dim = 2,\n",
    "    channels=5,    \n",
    "\n",
    ").to(device)\n",
    "\n",
    "diffusion = ABGaussianDiffusion(\n",
    "    unnet,\n",
    "        image_size = 64,\n",
    "        timesteps = 1000,\n",
    "        objective = 'pred_v',\n",
    "        beta_schedule = 'sigmoid'\n",
    ").to(device)\n",
    "\n",
    "evaluator = Evaluator(\n",
    "    model = diffusion,\n",
    "    model_name = model_name,\n",
    "    dataset = dataset,\n",
    "    num_steps = 4,\n",
    "    compute_every = 1,\n",
    "    batch_size  = 32, \n",
    "    device =device,\n",
    "    image_size = 64,\n",
    "    augment_data = False,\n",
    "    hint_generator = hint_generator,\n",
    "    folder = \"./\"\n",
    ")\n",
    "loaded_data = load(model_name)\n",
    "diffusion.load_state_dict(loaded_data['model'])"
   ]
  },
  {
   "cell_type": "code",
   "execution_count": 5,
   "metadata": {},
   "outputs": [
    {
     "data": {
      "application/vnd.jupyter.widget-view+json": {
       "model_id": "dcff86b4cb714081abf84b964cbdd3e3",
       "version_major": 2,
       "version_minor": 0
      },
      "text/plain": [
       " 25%|##5       | 1/4 [00:00<?, ?it/s]"
      ]
     },
     "metadata": {},
     "output_type": "display_data"
    },
    {
     "data": {
      "application/vnd.jupyter.widget-view+json": {
       "model_id": "48dc585817454f7397b082c957fd6736",
       "version_major": 2,
       "version_minor": 0
      },
      "text/plain": [
       "sampling loop time step:   0%|          | 0/1000 [00:00<?, ?it/s]"
      ]
     },
     "metadata": {},
     "output_type": "display_data"
    },
    {
     "data": {
      "application/vnd.jupyter.widget-view+json": {
       "model_id": "a7b8808525cd4501ad393a81b6b3d339",
       "version_major": 2,
       "version_minor": 0
      },
      "text/plain": [
       "sampling loop time step:   0%|          | 0/1000 [00:00<?, ?it/s]"
      ]
     },
     "metadata": {},
     "output_type": "display_data"
    },
    {
     "data": {
      "application/vnd.jupyter.widget-view+json": {
       "model_id": "521307c5c1e94f56ad9374bb5067cab5",
       "version_major": 2,
       "version_minor": 0
      },
      "text/plain": [
       "sampling loop time step:   0%|          | 0/1000 [00:00<?, ?it/s]"
      ]
     },
     "metadata": {},
     "output_type": "display_data"
    },
    {
     "data": {
      "application/vnd.jupyter.widget-view+json": {
       "model_id": "e06fa617f94844959d42d9e1fe6651c0",
       "version_major": 2,
       "version_minor": 0
      },
      "text/plain": [
       "sampling loop time step:   0%|          | 0/1000 [00:00<?, ?it/s]"
      ]
     },
     "metadata": {},
     "output_type": "display_data"
    },
    {
     "data": {
      "application/vnd.jupyter.widget-view+json": {
       "model_id": "05d5a7d2a2de48c4b8d8d93de8df082c",
       "version_major": 2,
       "version_minor": 0
      },
      "text/plain": [
       "sampling loop time step:   0%|          | 0/1000 [00:00<?, ?it/s]"
      ]
     },
     "metadata": {},
     "output_type": "display_data"
    },
    {
     "data": {
      "application/vnd.jupyter.widget-view+json": {
       "model_id": "630afe7b7cca426b8f0461d491cb9814",
       "version_major": 2,
       "version_minor": 0
      },
      "text/plain": [
       "sampling loop time step:   0%|          | 0/1000 [00:00<?, ?it/s]"
      ]
     },
     "metadata": {},
     "output_type": "display_data"
    },
    {
     "data": {
      "application/vnd.jupyter.widget-view+json": {
       "model_id": "273461c7519141fdbb59d654984a44a2",
       "version_major": 2,
       "version_minor": 0
      },
      "text/plain": [
       "sampling loop time step:   0%|          | 0/1000 [00:00<?, ?it/s]"
      ]
     },
     "metadata": {},
     "output_type": "display_data"
    },
    {
     "data": {
      "application/vnd.jupyter.widget-view+json": {
       "model_id": "67602df13f744df5a92e14dd8b40e601",
       "version_major": 2,
       "version_minor": 0
      },
      "text/plain": [
       "sampling loop time step:   0%|          | 0/1000 [00:00<?, ?it/s]"
      ]
     },
     "metadata": {},
     "output_type": "display_data"
    }
   ],
   "source": [
    "evaluator.evaluate_model()"
   ]
  },
  {
   "cell_type": "code",
   "execution_count": null,
   "metadata": {},
   "outputs": [],
   "source": []
  }
 ],
 "metadata": {
  "kernelspec": {
   "display_name": "Python 3",
   "language": "python",
   "name": "python3"
  },
  "language_info": {
   "codemirror_mode": {
    "name": "ipython",
    "version": 3
   },
   "file_extension": ".py",
   "mimetype": "text/x-python",
   "name": "python",
   "nbconvert_exporter": "python",
   "pygments_lexer": "ipython3",
   "version": "3.9.13"
  },
  "orig_nbformat": 4
 },
 "nbformat": 4,
 "nbformat_minor": 2
}
